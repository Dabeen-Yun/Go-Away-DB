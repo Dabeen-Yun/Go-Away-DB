{
 "cells": [
  {
   "cell_type": "code",
   "execution_count": 1,
   "id": "initial_id",
   "metadata": {
    "collapsed": true,
    "ExecuteTime": {
     "end_time": "2024-03-07T05:37:09.014114800Z",
     "start_time": "2024-03-07T05:37:08.997115100Z"
    }
   },
   "outputs": [],
   "source": [
    "#from urllib.parse import quote_plus           # url 구문 분석을 위한 패키지\n",
    "#from bs4 import BeautifulSoup as bs           # url을 구성요소로 구문 분석하기 위한 패키지"
   ]
  },
  {
   "cell_type": "code",
   "outputs": [],
   "source": [
    "#라이브러리 불러오기\n",
    "from selenium import webdriver\n",
    "import time\n",
    "from urllib.request import (urlopen, urlparse, urlunparse, urlretrieve)"
   ],
   "metadata": {
    "collapsed": false,
    "ExecuteTime": {
     "end_time": "2024-03-07T05:37:09.077114200Z",
     "start_time": "2024-03-07T05:37:09.018114800Z"
    }
   },
   "id": "d1558f01dc43b4a",
   "execution_count": 2
  },
  {
   "cell_type": "code",
   "outputs": [],
   "source": [
    "# 구글 이미지 url\n",
    "# 크롬 드라이브 경로가 너무 복잡하면 에러가나기 떄문에 새로 인스톨 후 가까운 경로로 설정\n",
    "\n",
    "chrome_path ='C:\\Temp\\chromedriver.exe'\n",
    "base_url = \"https://www.google.co.kr/imghp\""
   ],
   "metadata": {
    "collapsed": false,
    "ExecuteTime": {
     "end_time": "2024-03-07T06:20:57.982761Z",
     "start_time": "2024-03-07T06:20:57.973299800Z"
    }
   },
   "id": "9ef3a4e431005bca",
   "execution_count": 14
  },
  {
   "cell_type": "code",
   "outputs": [
    {
     "name": "stderr",
     "output_type": "stream",
     "text": [
      "C:\\Users\\a\\AppData\\Local\\Temp\\ipykernel_5844\\1308752575.py:11: DeprecationWarning: use options instead of chrome_options\n",
      "  driver = webdriver.Chrome(chrome_path,chrome_options=chrome_options)\n"
     ]
    }
   ],
   "source": [
    "chrome_options = webdriver.ChromeOptions()\n",
    "# chrome_options.add_argument('--headless') # 창 없는 모드\n",
    "# headless 모드의 호환성을 위해 아래 옵션 추가(가끔 막는 웹이 있음)\n",
    "#chrome_options.add_argument(\"user-agent=Mozilla/5.0 (Macintosh; Intel Mac OS X 10_12_6) AppleWebKit/537.36 (KHTML, like Gecko) Chrome/61.0.3163.100 Safari/537.36\")\n",
    "chrome_options.add_argument(\"lang=ko_KR\") # 한국어\n",
    "chrome_options.add_argument('window-size=1920x1080')\n",
    "# chrome_options.add_argument('--no-sandbox')\n",
    "# chrome_options.add_argument('--disable-dev-shm-usage')\n",
    "\n",
    "\n",
    "driver = webdriver.Chrome(chrome_path,chrome_options=chrome_options)\n",
    "driver.get(base_url)\n",
    "driver.implicitly_wait(3) # element가 로드될 때까지 지정한 시간만큼 대기할 수 있도록 설정\n",
    "driver.get_screenshot_as_file('google_screen.png')\n",
    "driver.close()"
   ],
   "metadata": {
    "collapsed": false,
    "ExecuteTime": {
     "end_time": "2024-03-07T06:21:01.818217Z",
     "start_time": "2024-03-07T06:20:59.838891600Z"
    }
   },
   "id": "86f627bcdc41ee07",
   "execution_count": 15
  },
  {
   "cell_type": "code",
   "outputs": [],
   "source": [
    "def selenium_scroll_option():\n",
    "  SCROLL_PAUSE_SEC = 3\n",
    "  \n",
    "  # 스크롤 높이 가져옴\n",
    "  last_height = driver.execute_script(\"return document.body.scrollHeight\")\n",
    "  \n",
    "  while True:\n",
    "    # 끝까지 스크롤 다운\n",
    "    driver.execute_script(\"window.scrollTo(0, document.body.scrollHeight);\")\n",
    "\n",
    "    # 1초 대기\n",
    "    time.sleep(SCROLL_PAUSE_SEC)\n",
    "\n",
    "    # 스크롤 다운 후 스크롤 높이 다시 가져옴\n",
    "    new_height = driver.execute_script(\"return document.body.scrollHeight\")\n",
    "  \n",
    "    if new_height == last_height:\n",
    "        break\n",
    "    last_height = new_height"
   ],
   "metadata": {
    "collapsed": false,
    "ExecuteTime": {
     "end_time": "2024-03-07T06:21:01.831526500Z",
     "start_time": "2024-03-07T06:21:01.819235400Z"
    }
   },
   "id": "8d99e7da124b72f1",
   "execution_count": 16
  },
  {
   "cell_type": "code",
   "outputs": [],
   "source": [
    "# 검색어로 이미지 크롤링 하기\n",
    "shark = './shark/'\n",
    "whale = './whale/'\n",
    "dolphin= './dolphin/'"
   ],
   "metadata": {
    "collapsed": false,
    "ExecuteTime": {
     "end_time": "2024-03-07T06:21:01.847259900Z",
     "start_time": "2024-03-07T06:21:01.833566400Z"
    }
   },
   "id": "efed339971bbef82",
   "execution_count": 17
  },
  {
   "cell_type": "code",
   "outputs": [
    {
     "name": "stdout",
     "output_type": "stream",
     "text": [
      "전체 다운로드한 이미지 개수: 400\n",
      "동일한 이미지를 제거한 이미지 개수: 391\n"
     ]
    }
   ],
   "source": [
    "from selenium import webdriver\n",
    "from selenium.webdriver.common.keys import Keys\n",
    "import time\n",
    "import urllib.request\n",
    "import os\n",
    "import pandas as pd\n",
    "\n",
    "# 키워드 검색하기\n",
    "\n",
    "a = input(\"검색할 키워드를 입력 : \")\n",
    "image_name = input(\"저장할 이미지 이름 : \")\n",
    "\n",
    "driver = webdriver.Chrome(chrome_path)\n",
    "driver.get('http://www.google.co.kr/imghp?hl=ko')\n",
    "browser = driver.find_element_by_name(\"q\")\n",
    "browser.send_keys(a)\n",
    "browser.send_keys(Keys.RETURN)\n",
    "\n",
    "# 스크롤하여 이미지를 많이 확보하는 함수\n",
    "def selenium_scroll_option():\n",
    "    SCROLL_PAUSE_TIME = 2\n",
    "\n",
    "    # 스크롤 높이 가져오기\n",
    "    last_height = driver.execute_script(\"return document.body.scrollHeight\")\n",
    "\n",
    "    while True:\n",
    "        # 스크롤을 끝까지 내림\n",
    "        driver.execute_script(\"window.scrollTo(0, document.body.scrollHeight);\")\n",
    "\n",
    "        # 페이지 로딩 대기\n",
    "        time.sleep(SCROLL_PAUSE_TIME)\n",
    "\n",
    "        # 스크롤 높이 가져오기\n",
    "        new_height = driver.execute_script(\"return document.body.scrollHeight\")\n",
    "        if new_height == last_height:\n",
    "            break\n",
    "        last_height = new_height\n",
    "\n",
    "# 클래스를 찾고 해당 클래스의 src 리스트를 만드는 함수\n",
    "selenium_scroll_option()\n",
    "\n",
    "# 이미지 더보기 클릭\n",
    "input_elements = driver.find_elements_by_xpath('//*[@id=\"islmp\"]/div/div/div/div/div[3]/div[2]/input')\n",
    "if input_elements:\n",
    "    input_elements[0].click()\n",
    "    selenium_scroll_option()\n",
    "\n",
    "# 이미지 src 요소를 리스트업해서 이미지 URL 저장\n",
    "images = driver.find_elements_by_css_selector(\".rg_i.Q4LuWd\")\n",
    "images_url = []\n",
    "for i in images: \n",
    "    if i.get_attribute('src') != None:\n",
    "        images_url.append(i.get_attribute('src'))\n",
    "    else:\n",
    "        images_url.append(i.get_attribute('data-src'))\n",
    "driver.close()\n",
    "\n",
    "# 겹치는 이미지 URL 제거\n",
    "print(\"전체 다운로드한 이미지 개수: {}\\n동일한 이미지를 제거한 이미지 개수: {}\".format(len(images_url), len(pd.DataFrame(images_url)[0].unique())))\n",
    "images_url = pd.DataFrame(images_url)[0].unique()\n",
    "\n",
    "# 해당하는 파일에 이미지 다운로드\n",
    "# 이미지를 다운로드하는 코드는 주석 처리했습니다. 필요에 따라 주석을 해제하여 사용하십시오.\n",
    "\n",
    "if not os.path.exists(f'images/{image_name}'):\n",
    "    os.makedirs(f'images/{image_name}')\n",
    "\n",
    "original_dir = os.getcwd()\n",
    "os.chdir(f'images/{image_name}')\n",
    "\n",
    "for t, url in enumerate(images_url, 0):\n",
    "    urllib.request.urlretrieve(url, image_name + '_' + str(t) + '.jpg')\n",
    "\n",
    "os.chdir(original_dir)"
   ],
   "metadata": {
    "collapsed": false,
    "ExecuteTime": {
     "end_time": "2024-03-07T06:28:29.962698300Z",
     "start_time": "2024-03-07T06:27:02.384404800Z"
    }
   },
   "id": "b5e7850b5943198f",
   "execution_count": 20
  },
  {
   "cell_type": "code",
   "outputs": [],
   "source": [],
   "metadata": {
    "collapsed": false
   },
   "id": "c81bf682c18d1236"
  }
 ],
 "metadata": {
  "kernelspec": {
   "display_name": "Python 3",
   "language": "python",
   "name": "python3"
  },
  "language_info": {
   "codemirror_mode": {
    "name": "ipython",
    "version": 2
   },
   "file_extension": ".py",
   "mimetype": "text/x-python",
   "name": "python",
   "nbconvert_exporter": "python",
   "pygments_lexer": "ipython2",
   "version": "2.7.6"
  }
 },
 "nbformat": 4,
 "nbformat_minor": 5
}
